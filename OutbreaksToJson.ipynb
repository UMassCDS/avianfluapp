{
 "cells": [
  {
   "cell_type": "code",
   "execution_count": null,
   "id": "05f9ab39",
   "metadata": {},
   "outputs": [],
   "source": [
    "# Go to https://www.aphis.usda.gov/livestock-poultry-disease/avian/avian-influenza/hpai-detections/commercial-backyard-flocks\n",
    "# and download. Change name to outbreaks.csv and move to assets/\n",
    "# NOTE - sometimes csv uses tab instead of comma.  Open in excel and save as proper csv.\n",
    "\n",
    "import csv\n",
    "import json\n",
    "\n",
    "def load_csv(csv_file):\n",
    "    csv_data = []\n",
    "    with open(csv_file, 'r') as file:\n",
    "        csv_reader = csv.reader(file, dialect=csv.excel)\n",
    "        for row in csv_reader:\n",
    "            print(row)\n",
    "            csv_data.append(row)\n",
    "    return csv_data"
   ]
  },
  {
   "cell_type": "code",
   "execution_count": null,
   "id": "1e664fbe",
   "metadata": {},
   "outputs": [],
   "source": [
    "data_list = load_csv(\"./src/assets/outbreaks.csv\")\n",
    "# labels are spread over the first two rows - the top row just says \"Control Area Released\" a bunch of times\n",
    "# the second row is where it has location and dates\n",
    "data_labels = data_list[1]\n",
    "# and then starting on the 3rd row is where the data starts \n",
    "data_list = data_list[2:]"
   ]
  },
  {
   "cell_type": "code",
   "execution_count": null,
   "id": "9118e828",
   "metadata": {},
   "outputs": [],
   "source": [
    "# convert US county location to lat/long\n",
    "import json\n",
    "\n",
    "# load JSON file with lat/long for US counties\n",
    "with open('./src/assets/counties.json', 'r') as file:\n",
    "    geoCountyData = json.load(file)\n",
    "    \n",
    "# create a dict with [state][county] = [lat, long]    \n",
    "locationDict = {}\n",
    "\n",
    "for line in geoCountyData:\n",
    "    if line['state'] not in locationDict.keys():\n",
    "        locationDict[line['state']] = {}\n",
    "    locationDict[line['state']][line['county'].upper()] = [line['lat'], line['lon']]\n"
   ]
  },
  {
   "cell_type": "code",
   "execution_count": null,
   "id": "5e6b3825",
   "metadata": {},
   "outputs": [],
   "source": [
    "import datetime\n",
    "\n",
    "months = [\"Jan\", \"Feb\", \"Mar\", \"Apr\", \"May\", \"Jun\", \"Jul\", \"Aug\", \"Sep\", \"Oct\", \"Nov\", \"Dec\"]\n",
    "def stringToDate(dateText):\n",
    "    parts = dateText.split('-')\n",
    "    if len(parts) != 3:\n",
    "        return dateText\n",
    "    year = int('20'+parts[2])\n",
    "    month = 1 + months.index(parts[1])\n",
    "    dt = datetime.date(year, month, int(parts[0]))\n",
    "    return dt.strftime(\"%Y-%m-%d\")\n",
    "    "
   ]
  },
  {
   "cell_type": "code",
   "execution_count": null,
   "id": "bada4e65",
   "metadata": {},
   "outputs": [],
   "source": [
    "\n",
    "def process_line(data_line):\n",
    "    # initialize output line as dict with data from the csv file\n",
    "    output_line = {}\n",
    "    for i in range(len(data_line)):\n",
    "        #if data_line[i] != '':\n",
    "        output_line[data_labels[i]] = data_line[i]\n",
    "    # improve formatting for some types\n",
    "    output_line['Confirmed'] = stringToDate(output_line['Confirmed'])\n",
    "    del output_line['Special Id']\n",
    "    for date_label in data_labels[5:]:\n",
    "        if output_line[date_label] != '':\n",
    "            output_line['EndDate'] = stringToDate(date_label)\n",
    "            output_line['NumInfected']= output_line[date_label]\n",
    "        del output_line[date_label]\n",
    "    # convert location to lat long\n",
    "    state = output_line['State'].upper() \n",
    "    county = output_line['County Name'].upper() \n",
    "    output_line['GeoLoc'] = locationDict[state][county]\n",
    "    return output_line"
   ]
  },
  {
   "cell_type": "code",
   "execution_count": null,
   "id": "89c68378",
   "metadata": {},
   "outputs": [],
   "source": [
    "# convert csv data to json data\n",
    "output_list = []\n",
    "for line in data_list:\n",
    "    output_list.append(process_line(line))"
   ]
  },
  {
   "cell_type": "code",
   "execution_count": null,
   "id": "a99cdfda",
   "metadata": {},
   "outputs": [],
   "source": [
    "# output json data\n",
    "keys = list(output_list[0].keys())\n",
    "with open(\"./src/assets/outbreaks.json\", \"w\") as outfile:\n",
    "    outfile.write('[\\n')\n",
    "    for i in range(len(output_list)):\n",
    "        line = output_list[i]\n",
    "        outfile.write('  {\\n')\n",
    "        for key in keys:\n",
    "            outfile.write('    \"'+key+'\": ')\n",
    "            outfile.write(json.dumps(line[key]))\n",
    "            if key != keys[-1]:\n",
    "                outfile.write(',')\n",
    "            outfile.write('\\n')\n",
    "        if i == len(output_list)-1:\n",
    "            outfile.write('\\t}\\n')\n",
    "        else:\n",
    "            outfile.write('\\t},\\n')\n",
    "\n",
    "    outfile.write(']')"
   ]
  },
  {
   "cell_type": "code",
   "execution_count": null,
   "id": "933bd928",
   "metadata": {},
   "outputs": [],
   "source": []
  }
 ],
 "metadata": {
  "kernelspec": {
   "display_name": "Python 3 (ipykernel)",
   "language": "python",
   "name": "python3"
  },
  "language_info": {
   "codemirror_mode": {
    "name": "ipython",
    "version": 3
   },
   "file_extension": ".py",
   "mimetype": "text/x-python",
   "name": "python",
   "nbconvert_exporter": "python",
   "pygments_lexer": "ipython3",
   "version": "3.9.12"
  }
 },
 "nbformat": 4,
 "nbformat_minor": 5
}
